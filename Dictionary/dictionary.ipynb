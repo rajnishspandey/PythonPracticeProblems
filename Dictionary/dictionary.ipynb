{
 "cells": [
  {
   "cell_type": "code",
   "execution_count": 1,
   "id": "03a844ef-e2f6-4360-a7f0-c66207ad5451",
   "metadata": {},
   "outputs": [],
   "source": [
    "# Check if a given key already exists in a dictionary\n",
    "# input\n",
    "# d = {1: 10, 2: 20, 3: 30, 4: 40, 5: 50, 6: 60}\n",
    "# is_key_present(5)\n",
    "# is_key_present(9)\n",
    "# output\n",
    "# Key is present in the dictionary                                                                              \n",
    "# Key is not present in the dictionary"
   ]
  },
  {
   "cell_type": "code",
   "execution_count": 118,
   "id": "a88eca29-324e-41b2-9466-be508ed320a0",
   "metadata": {},
   "outputs": [
    {
     "data": {
      "text/plain": [
       "'Key is present in the dictionary'"
      ]
     },
     "execution_count": 118,
     "metadata": {},
     "output_type": "execute_result"
    }
   ],
   "source": [
    "d = {1: 10, 2: 20, 3: 30, 4: 40, 5: 50, 6: 60}\n",
    "def is_key_present(key):    \n",
    "    if key not in d:\n",
    "        return (\"Key is not present in the dictionary\")\n",
    "    elif key in d:\n",
    "        return \"Key is present in the dictionary\"\n",
    "\n",
    "is_key_present(4)"
   ]
  },
  {
   "cell_type": "code",
   "execution_count": 120,
   "id": "2cc18fad-4ac7-4121-ae5c-334e83aea702",
   "metadata": {},
   "outputs": [],
   "source": [
    "# Write a Python script to concatenate following dictionaries to create a new one\n",
    "# Input\n",
    "# dic1={1:10, 2:20}\n",
    "# dic2={3:30, 4:40}\n",
    "# dic3={5:50,6:60}\n",
    "# Output\n",
    "# {1: 10, 2: 20, 3: 30, 4: 40, 5: 50, 6: 60}"
   ]
  },
  {
   "cell_type": "code",
   "execution_count": 154,
   "id": "0a7eaf66-5d11-4068-b0a7-548abde380bd",
   "metadata": {},
   "outputs": [
    {
     "name": "stdout",
     "output_type": "stream",
     "text": [
      "{1: 10, 2: 20, 3: 30, 4: 40, 5: 50, 6: 60}\n"
     ]
    }
   ],
   "source": [
    "dic1={1:10, 2:20}\n",
    "dic2={3:30, 4:40}\n",
    "dic3={5:50,6:60}\n",
    "\n",
    "dic4 = {}\n",
    "for dic in (dic1,dic2,dic3):\n",
    "    dic4.update(dic)\n",
    "print(dic4)"
   ]
  },
  {
   "cell_type": "code",
   "execution_count": 156,
   "id": "5afd4ec2-68cc-4a8a-b324-20c11b13e130",
   "metadata": {},
   "outputs": [],
   "source": [
    "# Write a Python program to iterate over dictionaries using for loops."
   ]
  },
  {
   "cell_type": "code",
   "execution_count": 158,
   "id": "d80e041c-3366-4018-9801-23826675c536",
   "metadata": {},
   "outputs": [
    {
     "name": "stdout",
     "output_type": "stream",
     "text": [
      "x -> 10\n",
      "y -> 20\n",
      "z -> 30\n"
     ]
    }
   ],
   "source": [
    "d = {'x': 10, 'y': 20, 'z': 30} \n",
    "for dict_key, dict_value in d.items():\n",
    "    print(dict_key,'->',dict_value)"
   ]
  },
  {
   "cell_type": "code",
   "execution_count": 160,
   "id": "6baf9574-1e4f-40e1-a2d8-0536c208a477",
   "metadata": {},
   "outputs": [],
   "source": [
    "# Write a Python program to sort (ascending and descending) a dictionary by value.\n",
    "# Original dictionary :  {0: 0, 1: 2, 2: 1, 3: 4, 4: 3}                                                         \n",
    "# Dictionary in ascending order by value :  [(0, 0), (1, 2), (2, 1), (3, 4), (4, 3)]                            \n",
    "# Dictionary in descending order by value :  [(4, 3), (3, 4), (2, 1), (1, 2), (0, 0)]"
   ]
  },
  {
   "cell_type": "code",
   "execution_count": 162,
   "id": "59288f81-564e-45e6-9d5d-4a6ad40b51a0",
   "metadata": {},
   "outputs": [
    {
     "ename": "NameError",
     "evalue": "name 'operator' is not defined",
     "output_type": "error",
     "traceback": [
      "\u001b[0;31m---------------------------------------------------------------------------\u001b[0m",
      "\u001b[0;31mNameError\u001b[0m                                 Traceback (most recent call last)",
      "Cell \u001b[0;32mIn[162], line 3\u001b[0m\n\u001b[1;32m      1\u001b[0m og_dict \u001b[38;5;241m=\u001b[39m {\u001b[38;5;241m0\u001b[39m: \u001b[38;5;241m0\u001b[39m, \u001b[38;5;241m1\u001b[39m: \u001b[38;5;241m2\u001b[39m, \u001b[38;5;241m2\u001b[39m: \u001b[38;5;241m1\u001b[39m, \u001b[38;5;241m3\u001b[39m: \u001b[38;5;241m4\u001b[39m, \u001b[38;5;241m4\u001b[39m: \u001b[38;5;241m3\u001b[39m}\n\u001b[0;32m----> 3\u001b[0m sorted_d \u001b[38;5;241m=\u001b[39m \u001b[38;5;28msorted\u001b[39m(d\u001b[38;5;241m.\u001b[39mitems(), key\u001b[38;5;241m=\u001b[39moperator\u001b[38;5;241m.\u001b[39mitemgetter(\u001b[38;5;241m0\u001b[39m))\n\u001b[1;32m      4\u001b[0m sorted_d\n",
      "\u001b[0;31mNameError\u001b[0m: name 'operator' is not defined"
     ]
    }
   ],
   "source": [
    "og_dict = {0: 0, 1: 2, 2: 1, 3: 4, 4: 3}\n",
    "\n",
    "sorted_d = sorted(d.items(), key=operator.itemgetter(0))\n",
    "sorted_d\n",
    "    "
   ]
  },
  {
   "cell_type": "code",
   "execution_count": null,
   "id": "0b447788-9b88-4907-bd8f-208968a65b52",
   "metadata": {},
   "outputs": [],
   "source": []
  }
 ],
 "metadata": {
  "kernelspec": {
   "display_name": "Python 3 (ipykernel)",
   "language": "python",
   "name": "python3"
  },
  "language_info": {
   "codemirror_mode": {
    "name": "ipython",
    "version": 3
   },
   "file_extension": ".py",
   "mimetype": "text/x-python",
   "name": "python",
   "nbconvert_exporter": "python",
   "pygments_lexer": "ipython3",
   "version": "3.12.4"
  }
 },
 "nbformat": 4,
 "nbformat_minor": 5
}
