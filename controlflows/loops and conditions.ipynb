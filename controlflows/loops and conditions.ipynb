{
 "cells": [
  {
   "cell_type": "markdown",
   "id": "b6423cc9-554e-469d-93fc-035471884537",
   "metadata": {},
   "source": [
    "# 1. Write a Python program which takes two digits m (row) and n (column) as input and generates a two-dimensional array. \n",
    "## The element value in the i-th row and j-th column of the array should be i*j."
   ]
  },
  {
   "cell_type": "raw",
   "id": "98dfce21-eb3c-429f-832d-523d968bc844",
   "metadata": {},
   "source": [
    "# Note :\n",
    "# i = 0,1.., m-1 \n",
    "# j = 0,1, n-1.\n",
    "# Input\n",
    "# Input number of rows: 3                                                                                       \n",
    "# Input number of columns: 4  \n",
    "# Output\n",
    "# [[0, 0, 0, 0], [0, 1, 2, 3], [0, 2, 4, 6]] "
   ]
  },
  {
   "cell_type": "code",
   "execution_count": 18,
   "id": "a489c759-b530-4129-a358-d26466c73791",
   "metadata": {},
   "outputs": [
    {
     "name": "stdin",
     "output_type": "stream",
     "text": [
      "Input number of rows:  3\n",
      "Input number of columns:  4\n"
     ]
    },
    {
     "name": "stdout",
     "output_type": "stream",
     "text": [
      "[[0, 0, 0, 0], [0, 0, 0, 0], [0, 0, 0, 0]]\n",
      "[[0, 0, 0, 0], [0, 1, 2, 3], [0, 2, 4, 6]]\n"
     ]
    }
   ],
   "source": [
    "row_num = int(input(\"Input number of rows: \"))\n",
    "col_num = int(input(\"Input number of columns: \"))\n",
    "multi_list = [[0 for col in range(col_num)] for row in range(row_num)]\n",
    "print(multi_list)\n",
    "for row in range(row_num):\n",
    "    for col in range(col_num):\n",
    "        multi_list[row][col]= row*col\n",
    "print(multi_list)"
   ]
  },
  {
   "cell_type": "markdown",
   "id": "2c2f6306-3bd0-45bc-9d25-5a628b78bb1b",
   "metadata": {},
   "source": [
    "# Write a Python program to check a triangle is valid or not"
   ]
  },
  {
   "cell_type": "code",
   "execution_count": 5,
   "id": "af1856a2-1f80-403c-a6be-c27e033cbbdc",
   "metadata": {},
   "outputs": [
    {
     "name": "stdin",
     "output_type": "stream",
     "text": [
      "enter side 1\n",
      " 2\n",
      "enter side 2\n",
      " 2\n",
      "enter side 3\n",
      " 2\n"
     ]
    },
    {
     "name": "stdout",
     "output_type": "stream",
     "text": [
      "Yes, a triangle can be formed out of it\n"
     ]
    }
   ],
   "source": [
    "def triangle_check(l1,l2,l3):\n",
    "    if (l1>l2+l3) or (l2>l1+l3) or (l3>l1+l2):\n",
    "        print('No, the lengths wont form a triangle')\n",
    "    elif (l1==l2+l3) or (l2==l1+l3) or (l3==l1+l2):\n",
    "        print('yes, it can form a degenerated triangle')\n",
    "    else:\n",
    "        print('Yes, a triangle can be formed out of it')\n",
    "length1 = int(input('enter side 1\\n'))\n",
    "length2 = int(input('enter side 2\\n'))\n",
    "length3 = int(input('enter side 3\\n'))\n",
    "triangle_check(length1,length2,length3)"
   ]
  },
  {
   "cell_type": "raw",
   "id": "93e2c252-1854-4fe0-9fc4-7a8523890a3e",
   "metadata": {},
   "source": [
    "# Write a Python program to construct the following pattern, using a nested loop number.\n",
    "# 1                                                                                                             \n",
    "# 22                                                                                                            \n",
    "# 333                                                                                                           \n",
    "# 4444                                                                                                          \n",
    "# 55555                                                                                                         \n",
    "# 666666      "
   ]
  },
  {
   "cell_type": "code",
   "execution_count": 11,
   "id": "d78600b8-753e-4fb5-adef-1b34f616021d",
   "metadata": {},
   "outputs": [
    {
     "name": "stdout",
     "output_type": "stream",
     "text": [
      "\n",
      "1\n",
      "22\n",
      "333\n",
      "4444\n",
      "55555\n",
      "666666\n"
     ]
    }
   ],
   "source": [
    "for i in range(7):\n",
    "    print(str(i) * i)"
   ]
  },
  {
   "cell_type": "code",
   "execution_count": 25,
   "id": "7f6847ab-d278-49ae-944d-f9497a277412",
   "metadata": {},
   "outputs": [
    {
     "name": "stdout",
     "output_type": "stream",
     "text": [
      "******\n",
      "*****\n",
      "****\n",
      "***\n",
      "**\n",
      "*\n"
     ]
    }
   ],
   "source": [
    "for i in range(6,0,-1):\n",
    "    print( '*' * i)"
   ]
  },
  {
   "cell_type": "code",
   "execution_count": null,
   "id": "4ef0c8a8-753e-4530-84eb-b5c8b124f6e0",
   "metadata": {},
   "outputs": [],
   "source": []
  },
  {
   "cell_type": "code",
   "execution_count": 38,
   "id": "73a0b94f-649b-4e51-8ae8-325a683ecd1e",
   "metadata": {},
   "outputs": [
    {
     "name": "stdout",
     "output_type": "stream",
     "text": [
      "\n",
      "1\n",
      "11\n",
      "111\n",
      "1111\n",
      "11111\n",
      "111111\n"
     ]
    }
   ],
   "source": [
    "for i in range(7):\n",
    "    print('1' * i)"
   ]
  },
  {
   "cell_type": "raw",
   "id": "4d3d7cee-231f-4168-89da-053ed85b517a",
   "metadata": {},
   "source": [
    "#  Write a Python program to construct the following pattern, using a nested for loop.\n",
    "# * \n",
    "# * * \n",
    "# * * * \n",
    "# * * * * \n",
    "# * * * * * \n",
    "# * * * * \n",
    "# * * * \n",
    "# * * \n",
    "# *"
   ]
  },
  {
   "cell_type": "code",
   "execution_count": 52,
   "id": "880b405d-83a6-4938-9b37-e2956b02391e",
   "metadata": {},
   "outputs": [
    {
     "name": "stdout",
     "output_type": "stream",
     "text": [
      "\n",
      "* \n",
      "* * \n",
      "* * * \n",
      "* * * * \n",
      "* * * * * \n",
      "* * * * \n",
      "* * * \n",
      "* * \n",
      "* \n"
     ]
    }
   ],
   "source": [
    "n=5;\n",
    "for i in range(n):\n",
    "    for j in range(i):\n",
    "        print ('* ', end=\"\")\n",
    "    print('')\n",
    "for i in range(n,0,-1):\n",
    "    for j in range(i):\n",
    "        print('* ', end=\"\")\n",
    "    print('')\n"
   ]
  },
  {
   "cell_type": "raw",
   "id": "9b9a6805-c0eb-49a8-a79d-8e4b36fa0c9e",
   "metadata": {},
   "source": [
    "# Write a Python program that accepts a string and calculate the number of digits and letters\n",
    "# Sample Data : \"Python 3.2\"\n",
    "# Expected Output :\n",
    "# Letters 6 \n",
    "# Digits 2"
   ]
  },
  {
   "cell_type": "code",
   "execution_count": 60,
   "id": "90b7b21a-c221-4f34-8fc1-98424ef09bc8",
   "metadata": {},
   "outputs": [
    {
     "name": "stdin",
     "output_type": "stream",
     "text": [
      "Input a string Python 12.12\n"
     ]
    },
    {
     "name": "stdout",
     "output_type": "stream",
     "text": [
      "Letters 6\n",
      "Digits 4\n"
     ]
    }
   ],
   "source": [
    "string = input(\"Input a string\")\n",
    "digit = letter = 0\n",
    "\n",
    "for i in string:\n",
    "    if i.isdigit():\n",
    "        digit += 1\n",
    "    elif i.isalpha():\n",
    "        letter += 1\n",
    "    else:\n",
    "        pass\n",
    "\n",
    "print(\"Letters\", letter)\n",
    "print(\"Digits\", digit)"
   ]
  },
  {
   "cell_type": "raw",
   "id": "8f308a2b-b7a4-4d1a-8fc8-e65401c629d7",
   "metadata": {},
   "source": [
    "# Count the number of even and odd numbers from a series of numbers\n",
    "# Input \n",
    "# numbers = (1, 2, 3, 4, 5, 6, 7, 8, 9) # Declaring the tuple\n",
    "# Output\n",
    "# Number of even numbers : 4                                                                                    \n",
    "# Number of odd numbers : 5 "
   ]
  },
  {
   "cell_type": "code",
   "execution_count": 74,
   "id": "5273341f-ff42-4204-81a1-6e5a5c598741",
   "metadata": {},
   "outputs": [
    {
     "name": "stdout",
     "output_type": "stream",
     "text": [
      "odd 1\n",
      "even 2\n",
      "odd 3\n",
      "even 4\n",
      "odd 5\n",
      "even 6\n",
      "odd 7\n",
      "even 8\n",
      "odd 9\n",
      "even count : 4\n",
      "odd count : 5\n"
     ]
    }
   ],
   "source": [
    "numbers = (1, 2, 3, 4, 5, 6, 7, 8, 9)\n",
    "evenCount = 0\n",
    "oddCount = 0\n",
    "for i in numbers:\n",
    "    if i%2 == 0:\n",
    "        evenCount += 1\n",
    "        print(\"even\",i)\n",
    "    else:    \n",
    "        oddCount += 1\n",
    "        print(\"odd\",i)\n",
    "        \n",
    "print(f\"even count : {evenCount}\")\n",
    "print(f\"odd count : {oddCount}\")"
   ]
  },
  {
   "cell_type": "markdown",
   "id": "2f2711d7-475f-4511-bef4-885d210984e2",
   "metadata": {},
   "source": [
    "# Write a Python program to get the Fibonacci series between 0 to 50 "
   ]
  },
  {
   "cell_type": "code",
   "execution_count": 80,
   "id": "847c34a0-7e41-4398-ae5a-ccbdf19992aa",
   "metadata": {},
   "outputs": [
    {
     "name": "stdout",
     "output_type": "stream",
     "text": [
      "1\n",
      "1\n",
      "2\n",
      "3\n",
      "5\n",
      "8\n",
      "13\n",
      "21\n",
      "34\n"
     ]
    }
   ],
   "source": [
    "x,y=0,1\n",
    "while y<50:\n",
    "    print(y)\n",
    "    x,y = y,x+y"
   ]
  },
  {
   "cell_type": "markdown",
   "id": "64f4d1dd-a5bb-435a-9ac2-bd2e71a5009b",
   "metadata": {},
   "source": [
    "#  Write a Python program to find those numbers which are divisible by 7 and multiple of 5, between 1500 and 2700"
   ]
  },
  {
   "cell_type": "code",
   "execution_count": 133,
   "id": "c73d77da-7a0d-44d7-8d19-5adf39b0d06c",
   "metadata": {},
   "outputs": [
    {
     "name": "stdout",
     "output_type": "stream",
     "text": [
      "[1505, 1540, 1575, 1610, 1645, 1680, 1715, 1750, 1785, 1820, 1855, 1890, 1925, 1960, 1995, 2030, 2065, 2100, 2135, 2170, 2205, 2240, 2275, 2310, 2345, 2380, 2415, 2450, 2485, 2520, 2555, 2590, 2625, 2660, 2695]\n"
     ]
    }
   ],
   "source": [
    "numbers = []\n",
    "for i in range(1500, 2701):\n",
    "    if i%7 == 0 and i%5 == 0:\n",
    "        numbers.append(i)\n",
    "\n",
    "print(numbers)"
   ]
  },
  {
   "cell_type": "code",
   "execution_count": 129,
   "id": "23aba1f6-2a43-468b-b06e-13e95a84c3be",
   "metadata": {},
   "outputs": [
    {
     "name": "stdout",
     "output_type": "stream",
     "text": [
      "1505,1540,1575,1610,1645,1680,1715,1750,1785,1820,1855,1890,1925,1960,1995,2030,2065,2100,2135,2170,2205,2240,2275,2310,2345,2380,2415,2450,2485,2520,2555,2590,2625,2660,2695\n"
     ]
    }
   ],
   "source": [
    "# as string\n",
    "nl=[]\n",
    "for x in range(1500, 2700):\n",
    "    if (x%7==0) and (x%5==0):\n",
    "        nl.append(str(x))\n",
    "print (','.join(nl))\n"
   ]
  },
  {
   "cell_type": "raw",
   "id": "a8d0de98-fa67-49bd-a1b3-cc04e6a8c5d8",
   "metadata": {},
   "source": [
    "# Generate a random number between 1 and 9 (including 1 and 9).\n",
    "# Ask the user to guess the number, then tell them whether they guessed too low, too high, or exactly right. "
   ]
  },
  {
   "cell_type": "code",
   "execution_count": null,
   "id": "89112acd-fbb5-4883-bce8-d807fe73b54e",
   "metadata": {},
   "outputs": [],
   "source": []
  }
 ],
 "metadata": {
  "kernelspec": {
   "display_name": "Python 3 (ipykernel)",
   "language": "python",
   "name": "python3"
  },
  "language_info": {
   "codemirror_mode": {
    "name": "ipython",
    "version": 3
   },
   "file_extension": ".py",
   "mimetype": "text/x-python",
   "name": "python",
   "nbconvert_exporter": "python",
   "pygments_lexer": "ipython3",
   "version": "3.12.4"
  }
 },
 "nbformat": 4,
 "nbformat_minor": 5
}
