{
 "cells": [
  {
   "cell_type": "raw",
   "id": "a8de1045-6575-444b-ad98-9b3e041ae860",
   "metadata": {},
   "source": [
    "# Write a Python program to create a Caesar encryption\n",
    "# Note : In cryptography, a Caesar cipher, also known as Caesar's cipher, the shift cipher, Caesar's code or Caesar shift, is one of the simplest and most widely known encryption techniques.\n",
    "\n",
    "# It is a type of substitution cipher in which each letter in the plaintext is replaced by a letter some fixed number of positions down the alphabet.\n",
    "\n",
    "# For example, with a left shift of 3, D would be replaced by A, E would become B, and so on.\n",
    "\n",
    "# The method is named after Julius Caesar, who used it in his private correspondence.\n",
    "\n",
    "# plaintext:  defend the east wall of the castle\n",
    "\n",
    "# ciphertext: efgfoe uif fbtu xbmm pg uif dbtumf"
   ]
  },
  {
   "cell_type": "code",
   "execution_count": 11,
   "id": "1d3677b0-fd90-44eb-8a5d-b38a66d40d24",
   "metadata": {},
   "outputs": [
    {
     "name": "stdout",
     "output_type": "stream",
     "text": [
      "\n",
      "['e', 'f', 'g', 'f', 'o', 'e', 'u', 'i', 'f', 'f', 'b', 't', 'u', 'x', 'b', 'm', 'm', 'p', 'g', 'u', 'i', 'f', 'd', 'b', 't', 'u', 'm', 'f']\n",
      "\n"
     ]
    }
   ],
   "source": [
    "def caesar_encrypt(realText, step):\n",
    "    outText = []\n",
    "    cryptText = []\n",
    "    \n",
    "    uppercase = ['A', 'B', 'C', 'D', 'E', 'F', 'G', 'H', 'I', 'J', 'K', 'L', 'M', 'N', 'O', 'P', 'Q', 'R', 'S', 'T', 'U', 'V', 'W', 'X', 'Y', 'Z']\n",
    "    lowercase = ['a', 'b', 'c', 'd', 'e', 'f', 'g', 'h', 'i', 'j', 'k', 'l', 'm', 'n', 'o', 'p', 'q', 'r', 's', 't', 'u', 'v', 'w', 'x', 'y', 'z']\n",
    " \n",
    "    for eachLetter in realText:\n",
    "        if eachLetter in uppercase:\n",
    "            index = uppercase.index(eachLetter)\n",
    "            crypting = (index + step) % 26\n",
    "            cryptText.append(crypting)\n",
    "            newLetter = uppercase[crypting]\n",
    "            outText.append(newLetter)\n",
    "        elif eachLetter in lowercase:\n",
    "            index = lowercase.index(eachLetter)\n",
    "            crypting = (index + step) % 26\n",
    "            cryptText.append(crypting)\n",
    "            newLetter = lowercase[crypting]\n",
    "            outText.append(newLetter)\n",
    "    return outText\n",
    " \n",
    "code = caesar_encrypt('defend the east wall of the castle', 1)\n",
    "print()\n",
    "print(code)\n",
    "print()"
   ]
  },
  {
   "cell_type": "markdown",
   "id": "0be7d9bb-3cf6-40f4-942d-16eb07a18b29",
   "metadata": {},
   "source": [
    "# Write a Python program to change a given string to a new string where the first and last chars have been exchanged "
   ]
  },
  {
   "cell_type": "code",
   "execution_count": 54,
   "id": "c04e0b28-f017-49cc-8c1d-81d96fb33959",
   "metadata": {},
   "outputs": [
    {
     "name": "stdout",
     "output_type": "stream",
     "text": [
      "dbca\n",
      "52341\n"
     ]
    }
   ],
   "source": [
    "def change_sring(str1):\n",
    "      return str1[-1:] + str1[1:-1] + str1[:1]\n",
    "    \n",
    "print(change_sring('abcd'))\n",
    "print(change_sring('12345'))"
   ]
  },
  {
   "cell_type": "raw",
   "id": "4f3c9ea4-5d52-4362-a4d4-8ec90bbf4fe2",
   "metadata": {},
   "source": [
    "# Write a Python program to count the number of characters (character frequency) in a string."
   ]
  },
  {
   "cell_type": "code",
   "execution_count": 76,
   "id": "e8c74d13-3f56-4156-9b9f-74943bd2dd83",
   "metadata": {},
   "outputs": [
    {
     "name": "stdout",
     "output_type": "stream",
     "text": [
      "{'w': 2, 'o': 1}\n"
     ]
    }
   ],
   "source": [
    "string = 'wow'\n",
    "dict = {}\n",
    "for i in string:\n",
    "    key = dict.keys()\n",
    "    # print(key)\n",
    "    if i in key:\n",
    "        dict[i] += 1\n",
    "    else:\n",
    "        dict[i] = 1\n",
    "print(dict)"
   ]
  },
  {
   "cell_type": "raw",
   "id": "6b72ab2b-ca2c-481f-9a42-aae42bc3a432",
   "metadata": {},
   "source": [
    "# Write a Python function to create the HTML string with tags around the word(s).\n",
    "# Sample function and result : \n",
    "# add_tags('i', 'Python') -> '<i>Python</i>'\n",
    "# add_tags('b', 'Python Tutorial') -> '<b>Python Tutorial </b>'"
   ]
  },
  {
   "cell_type": "code",
   "execution_count": 110,
   "id": "3c6e5422-61e6-4d65-a2f4-917a7914be21",
   "metadata": {},
   "outputs": [
    {
     "name": "stdout",
     "output_type": "stream",
     "text": [
      "<i>Python</i>\n",
      "<b>Python practice</b>\n"
     ]
    }
   ],
   "source": [
    "def add_tags(tag, word):\n",
    "    new_word = f\"<{tag}>{word}</{tag}>\"\n",
    "    return new_word\n",
    "    \n",
    "print(add_tags('i', 'Python'))\n",
    "print(add_tags('b', 'Python practice'))"
   ]
  },
  {
   "cell_type": "code",
   "execution_count": 112,
   "id": "73bc4458-609b-484e-96da-b0b4d5050edb",
   "metadata": {},
   "outputs": [
    {
     "name": "stdout",
     "output_type": "stream",
     "text": [
      "<i>Python</i>\n",
      "<b>Python Tutorial</b>\n"
     ]
    }
   ],
   "source": [
    "def add_tags(tag, word):\n",
    "    return \"<%s>%s</%s>\" % (tag, word, tag)\n",
    " \n",
    "print(add_tags('i', 'Python'))\n",
    "print(add_tags('b', 'Python Tutorial'))"
   ]
  },
  {
   "cell_type": "markdown",
   "id": "f08de6fb-b24c-43a1-834b-ba077e03e82f",
   "metadata": {},
   "source": [
    "# Write a Python function that takes a list of words and returns the length of the longest one "
   ]
  },
  {
   "cell_type": "code",
   "execution_count": 139,
   "id": "fa307717-2df8-4212-9160-8fb1a6d86621",
   "metadata": {},
   "outputs": [
    {
     "name": "stdout",
     "output_type": "stream",
     "text": [
      "{'aaa': 3, 'bbbbbbb': 7, 'ccccccc': 7, 'dddd': 4, 'eeeeeeeeeee': 11}\n",
      "('eeeeeeeeeee', 11)\n"
     ]
    }
   ],
   "source": [
    "string = [\"aaa\",\"bbbbbbb\",\"ccccccc\",\"dddd\",\"eeeeeeeeeee\"]\n",
    "\n",
    "dict = {}\n",
    "for i in string:\n",
    "    dict[i] = len(i)\n",
    "\n",
    "print(dict)\n",
    "print(max(dict.items()))"
   ]
  },
  {
   "cell_type": "code",
   "execution_count": 159,
   "id": "17234504-f209-4552-903a-f9ebff6d630a",
   "metadata": {},
   "outputs": [
    {
     "name": "stdout",
     "output_type": "stream",
     "text": [
      "eeeeeeeeeee\n"
     ]
    }
   ],
   "source": [
    "string = [\"aaa\",\"bbbbbbb\",\"ccccccc\",\"dddd\",\"eeeeeeeeeee\"]\n",
    "\n",
    "dict = {}\n",
    "for i, val in enumerate(string):\n",
    "    dict[val] = len(val)\n",
    "\n",
    "# print(dict)\n",
    "print(max(dict))"
   ]
  },
  {
   "cell_type": "code",
   "execution_count": 161,
   "id": "bc2bd651-f6f8-454f-af54-08bf2edad7f8",
   "metadata": {},
   "outputs": [
    {
     "name": "stdout",
     "output_type": "stream",
     "text": [
      "Exercises\n"
     ]
    }
   ],
   "source": [
    "def find_longest_word(words_list):\n",
    "    word_len = []\n",
    "    for n in words_list:\n",
    "        word_len.append((len(n), n))\n",
    "    word_len.sort()\n",
    "    return word_len[-1][1]\n",
    "print(find_longest_word([\"PHP\", \"Exercises\", \"Backend\"]))"
   ]
  },
  {
   "cell_type": "markdown",
   "id": "347ac570-3710-45ed-8018-d558224025e6",
   "metadata": {},
   "source": [
    "# Write a Python program to remove the nth index character from a nonempty string"
   ]
  },
  {
   "cell_type": "code",
   "execution_count": 186,
   "id": "880d0a6c-8354-4fe7-b744-133c8d406a13",
   "metadata": {},
   "outputs": [
    {
     "name": "stdout",
     "output_type": "stream",
     "text": [
      "rjnish\n"
     ]
    }
   ],
   "source": [
    "string = \"rajnish\"\n",
    "indx = 1\n",
    "\n",
    "newstr = string.replace(string[indx],'')\n",
    "print(newstr) #O(n)"
   ]
  },
  {
   "cell_type": "code",
   "execution_count": 202,
   "id": "65ccdce2-1981-46d2-9a03-93c3f17fcb77",
   "metadata": {},
   "outputs": [
    {
     "name": "stdout",
     "output_type": "stream",
     "text": [
      "ranish\n"
     ]
    }
   ],
   "source": [
    "def remove_char(str, n):\n",
    "    first_part = str[:n]\n",
    "    # print(first_part)\n",
    "    \n",
    "    last_pasrt = str[n+1:]\n",
    "    # print(last_pasrt)\n",
    "    \n",
    "    return first_part + last_pasrt\n",
    "    \n",
    "print(remove_char('rajnish', 2)) #O(n)  but it's more efficient"
   ]
  },
  {
   "cell_type": "raw",
   "id": "ea991901-8845-4f33-b33b-357c3a3bb16e",
   "metadata": {},
   "source": [
    "# 'The quick brown fox jumps over the lazy dog.'\n",
    "# input : \"The quick brown fox jumps over the lazy dog.\"\n",
    "# output : \"dog. lazy the over jumps fox brown quick The \""
   ]
  },
  {
   "cell_type": "code",
   "execution_count": 248,
   "id": "ba40dec1-48c6-41bb-81c7-c1a1e296daf5",
   "metadata": {},
   "outputs": [
    {
     "name": "stdout",
     "output_type": "stream",
     "text": [
      "dog. lazy the over jumps fox brown quick The\n",
      "Exercises. Python\n"
     ]
    }
   ],
   "source": [
    "def reverse_string_words(text):\n",
    "    for line in text.split('\\n'):\n",
    "        return(' '.join(line.split()[::-1]))\n",
    "    \n",
    "print(reverse_string_words(\"The quick brown fox jumps over the lazy dog.\"))\n",
    "print(reverse_string_words(\"Python Exercises.\"))"
   ]
  },
  {
   "cell_type": "markdown",
   "id": "27470409-79d4-4e5c-8a05-d3ea7f66bb02",
   "metadata": {},
   "source": [
    "# Write a Python program to calculate the length of a string. "
   ]
  },
  {
   "cell_type": "code",
   "execution_count": 257,
   "id": "05577615-4c9b-45fc-bfb3-843a9a5a411f",
   "metadata": {},
   "outputs": [
    {
     "name": "stdout",
     "output_type": "stream",
     "text": [
      "11\n"
     ]
    }
   ],
   "source": [
    "str = 'hello world'\n",
    "print(len(str))"
   ]
  },
  {
   "cell_type": "code",
   "execution_count": 265,
   "id": "23d019c2-a218-438f-b572-86a1b1e4f961",
   "metadata": {},
   "outputs": [
    {
     "name": "stdout",
     "output_type": "stream",
     "text": [
      "11\n"
     ]
    }
   ],
   "source": [
    "def len(str1):\n",
    "    count = 0\n",
    "    for char in str1:\n",
    "        count += 1\n",
    "    return count\n",
    "print(len('hello world'))"
   ]
  },
  {
   "cell_type": "raw",
   "id": "0ac6c27d-3949-4195-adaa-e39acc703d82",
   "metadata": {},
   "source": [
    "# Write a Python program that accepts a comma separated sequence of words as input and prints the unique words in sorted form (alphanumerically)\n",
    "# Sample Words : red, white, black, red, green, black\n",
    "# Expected Result : black, green, red, white,red"
   ]
  },
  {
   "cell_type": "code",
   "execution_count": 333,
   "id": "ea938186-5ffa-4b4b-a4f9-107f2e27cd9a",
   "metadata": {},
   "outputs": [
    {
     "data": {
      "text/plain": [
       "{'black', 'green', 'red', 'white'}"
      ]
     },
     "execution_count": 333,
     "metadata": {},
     "output_type": "execute_result"
    }
   ],
   "source": [
    "def uniqueStr(text):\n",
    "    text = text.split(',')\n",
    "    # print(text)\n",
    "    newstr = []\n",
    "    \n",
    "    for i in text:\n",
    "        newstr.append(i.strip())\n",
    "    return set(newstr)\n",
    "\n",
    "uniqueStr('red, white, black, red, green, black')"
   ]
  },
  {
   "cell_type": "markdown",
   "id": "dd2bf2c5-8eba-4730-96c5-90e9a5d6c944",
   "metadata": {},
   "source": [
    "# Write a Python program to count the occurrences of each word in a given sentence "
   ]
  },
  {
   "cell_type": "code",
   "execution_count": 19,
   "id": "8921e039-c3e0-4406-ab56-3afca16dac49",
   "metadata": {},
   "outputs": [
    {
     "name": "stdout",
     "output_type": "stream",
     "text": [
      "['the', 'quick', 'brown', 'fox', 'jumps', 'over', 'the', 'lazy', 'dog']\n"
     ]
    },
    {
     "data": {
      "text/plain": [
       "{'the': 1,\n",
       " 'quick': 1,\n",
       " 'brown': 1,\n",
       " 'fox': 1,\n",
       " 'jumps': 1,\n",
       " 'over': 1,\n",
       " 'lazy': 1,\n",
       " 'dog': 1}"
      ]
     },
     "execution_count": 19,
     "metadata": {},
     "output_type": "execute_result"
    }
   ],
   "source": [
    "def countWord(text):\n",
    "    text = text.split()\n",
    "    print(text)\n",
    "    dict = {}\n",
    "    counter = 0\n",
    "\n",
    "    for i in text:\n",
    "        if i in dict:\n",
    "            dict[i] = counter + 1\n",
    "            counter += 1\n",
    "        else:\n",
    "            dict[i] = 1\n",
    "        \n",
    "    return dict\n",
    "\n",
    "countWord('the quick brown fox jumps over the lazy dog')    "
   ]
  },
  {
   "cell_type": "code",
   "execution_count": 1,
   "id": "0840dc6b-7b5c-4ae5-a4ec-106df6baba80",
   "metadata": {},
   "outputs": [
    {
     "name": "stdout",
     "output_type": "stream",
     "text": [
      "{'the': 2, 'quick': 1, 'brown': 1, 'fox': 1, 'jumps': 1, 'over': 1, 'lazy': 1, 'dog.': 1}\n"
     ]
    }
   ],
   "source": [
    "def word_count(str):\n",
    "    counts = dict()\n",
    "    words = str.split()\n",
    "    for word in words:\n",
    "        if word in counts:\n",
    "            counts[word] += 1\n",
    "        else:\n",
    "            counts[word] = 1\n",
    "    return counts\n",
    "print( word_count('the quick brown fox jumps over the lazy dog.'))\n"
   ]
  },
  {
   "cell_type": "code",
   "execution_count": null,
   "id": "94232b23-5123-489f-885d-c9fb1f4f4f09",
   "metadata": {},
   "outputs": [],
   "source": []
  }
 ],
 "metadata": {
  "kernelspec": {
   "display_name": "Python 3 (ipykernel)",
   "language": "python",
   "name": "python3"
  },
  "language_info": {
   "codemirror_mode": {
    "name": "ipython",
    "version": 3
   },
   "file_extension": ".py",
   "mimetype": "text/x-python",
   "name": "python",
   "nbconvert_exporter": "python",
   "pygments_lexer": "ipython3",
   "version": "3.12.4"
  }
 },
 "nbformat": 4,
 "nbformat_minor": 5
}
