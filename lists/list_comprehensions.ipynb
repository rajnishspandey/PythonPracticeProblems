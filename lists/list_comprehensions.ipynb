{
 "cells": [
  {
   "cell_type": "code",
   "execution_count": 6,
   "id": "5033e228-904e-44fb-b0eb-2c72448c0dcd",
   "metadata": {},
   "outputs": [
    {
     "name": "stdout",
     "output_type": "stream",
     "text": [
      "[1, 4, 9, 16, 25, 36, 49, 64, 81, 100]\n"
     ]
    }
   ],
   "source": [
    "# Generate a list of squares for numbers from 1 to 10.\n",
    "n = 10\n",
    "sqr_result = [i*i for i in range(1, n+1)]\n",
    "print(sqr_result)"
   ]
  },
  {
   "cell_type": "code",
   "execution_count": 7,
   "id": "bb69e365-504e-44d3-8f30-a8a4b64e2ee0",
   "metadata": {},
   "outputs": [
    {
     "name": "stdout",
     "output_type": "stream",
     "text": [
      "[2, 4, 6, 8, 10, 12, 14, 16, 18, 20]\n"
     ]
    }
   ],
   "source": [
    "# Create a list of even numbers from 1 to 20.\n",
    "n = 20\n",
    "even_result = [i for i in range(1,n+1) if i%2 == 0]\n",
    "print(even_result)"
   ]
  },
  {
   "cell_type": "code",
   "execution_count": 15,
   "id": "e1108c5d-f4ca-4aa8-b60c-e9bb9ce3b5d0",
   "metadata": {},
   "outputs": [
    {
     "data": {
      "text/plain": [
       "[5, 6, 6]"
      ]
     },
     "execution_count": 15,
     "metadata": {},
     "output_type": "execute_result"
    }
   ],
   "source": [
    "# Given a list of strings, generate a list containing the lengths of each string.\n",
    "Input = [\"apple\", \"banana\", \"cherry\"]\n",
    "len_result = [len(length) for length in Input]\n",
    "len_result"
   ]
  },
  {
   "cell_type": "code",
   "execution_count": 16,
   "id": "18e22087-b636-4c49-92a9-9ba79091c834",
   "metadata": {},
   "outputs": [
    {
     "data": {
      "text/plain": [
       "[15, 30]"
      ]
     },
     "execution_count": 16,
     "metadata": {},
     "output_type": "execute_result"
    }
   ],
   "source": [
    "# Create a list containing only the positive numbers from the given list.\n",
    "Input = [-10, 15, -20, 30, 0, -5]\n",
    "\n",
    "positive_result = [i for i in Input if i>0]\n",
    "positive_result"
   ]
  },
  {
   "cell_type": "code",
   "execution_count": 44,
   "id": "959cf039-d772-4f3d-ae30-9cdc4468bb5f",
   "metadata": {},
   "outputs": [
    {
     "name": "stdout",
     "output_type": "stream",
     "text": [
      "[1, 2, 3, 4, 5, 6]\n"
     ]
    }
   ],
   "source": [
    "# Flatten the list [[1, 2], [3, 4], [5, 6]] into a single list.\n",
    "lists = [[1, 2], [3, 4], [5, 6]]\n",
    "new_list = []\n",
    "for i in lists:\n",
    "    for j in i:\n",
    "        new_list.append(j)\n",
    "print(new_list)"
   ]
  },
  {
   "cell_type": "code",
   "execution_count": 45,
   "id": "e4cd74b5-067d-45f2-9c28-1cc932dfb03a",
   "metadata": {},
   "outputs": [
    {
     "name": "stdout",
     "output_type": "stream",
     "text": [
      "[1, 2, 3, 4, 5, 6]\n"
     ]
    }
   ],
   "source": [
    "flatten_result = []\n",
    "[flatten_result.append(j) for i in lists for j in i]\n",
    "print(flatten_result)"
   ]
  },
  {
   "cell_type": "code",
   "execution_count": 47,
   "id": "fb8740a1-d40b-409f-9ea2-bb4caeb71512",
   "metadata": {},
   "outputs": [
    {
     "data": {
      "text/plain": [
       "[1, 2, 3, 4, 5, 6]"
      ]
     },
     "execution_count": 47,
     "metadata": {},
     "output_type": "execute_result"
    }
   ],
   "source": [
    "flatten_result_list = [j for i in lists for j in i]\n",
    "flatten_result_list"
   ]
  },
  {
   "cell_type": "code",
   "execution_count": 1,
   "id": "7dcf79aa-a73f-4754-9228-8bd1b817c003",
   "metadata": {},
   "outputs": [
    {
     "data": {
      "text/plain": [
       "['HELLO', 'WORLD', 'PYTHON']"
      ]
     },
     "execution_count": 1,
     "metadata": {},
     "output_type": "execute_result"
    }
   ],
   "source": [
    "# Convert all strings in a list to uppercase.\n",
    "Input = [\"hello\", \"world\", \"python\"]\n",
    "\n",
    "upper_input = [i.upper() for i in Input]\n",
    "upper_input"
   ]
  },
  {
   "cell_type": "code",
   "execution_count": 5,
   "id": "c4254caf-5f2b-4ef3-a829-799546c4574d",
   "metadata": {},
   "outputs": [
    {
     "data": {
      "text/plain": [
       "[1, 2, 3, 4]"
      ]
     },
     "execution_count": 5,
     "metadata": {},
     "output_type": "execute_result"
    }
   ],
   "source": [
    "# Extract digits from a string into a list.\n",
    "Input= \"a1b2c3d4\"\n",
    "digits_result = [int(i) for i in Input if i.isdigit()]\n",
    "digits_result"
   ]
  },
  {
   "cell_type": "code",
   "execution_count": 20,
   "id": "35ff8a1a-a6ba-453c-95c0-fe2b8d10bb9a",
   "metadata": {},
   "outputs": [
    {
     "data": {
      "text/plain": [
       "[1, 2, 3, 4]"
      ]
     },
     "execution_count": 20,
     "metadata": {},
     "output_type": "execute_result"
    }
   ],
   "source": [
    "digits = [int(i) for i in Input if '0' <= i <= '9']\n",
    "digits"
   ]
  },
  {
   "cell_type": "code",
   "execution_count": 17,
   "id": "127ae1d7-4498-4b9a-9274-ae584f9f96c3",
   "metadata": {},
   "outputs": [
    {
     "data": {
      "text/plain": [
       "['a', 'b', 'c', 'd']"
      ]
     },
     "execution_count": 17,
     "metadata": {},
     "output_type": "execute_result"
    }
   ],
   "source": [
    "Input= \"a1b2c3d4\"\n",
    "alpha_result = [i for i in Input if i.isalpha()]\n",
    "alpha_result"
   ]
  },
  {
   "cell_type": "code",
   "execution_count": 19,
   "id": "5f8ddc7f-dcce-4fbc-ace4-0ad3abefbd50",
   "metadata": {},
   "outputs": [
    {
     "data": {
      "text/plain": [
       "['a', 'b', 'c', 'D']"
      ]
     },
     "execution_count": 19,
     "metadata": {},
     "output_type": "execute_result"
    }
   ],
   "source": [
    "Input= \"a1b2c3D4\"\n",
    "alpha = [i for i in Input if ('a' <= i <= 'z') or ('A' <= i <='Z') ]\n",
    "alpha"
   ]
  },
  {
   "cell_type": "code",
   "execution_count": 21,
   "id": "8f6596c0-5026-40a4-816f-c9ade2eef6ba",
   "metadata": {},
   "outputs": [
    {
     "data": {
      "text/plain": [
       "[12, 16, 20]"
      ]
     },
     "execution_count": 21,
     "metadata": {},
     "output_type": "execute_result"
    }
   ],
   "source": [
    "# Multiply each number by 2, but only include numbers greater than 5.\n",
    "Input= [3, 6, 8, 2, 10]\n",
    "mult_result = [i*2 for i in Input if i > 5]\n",
    "mult_result"
   ]
  },
  {
   "cell_type": "code",
   "execution_count": 1,
   "id": "20e03edd-744e-4dea-aa2c-86fe7d16bd40",
   "metadata": {},
   "outputs": [
    {
     "data": {
      "text/plain": [
       "{1: 1, 2: 8, 3: 27, 4: 64, 5: 125}"
      ]
     },
     "execution_count": 1,
     "metadata": {},
     "output_type": "execute_result"
    }
   ],
   "source": [
    "# Create a dictionary where the keys are numbers from 1 to 5, and the values are their cubes.\n",
    "# Expected Output: {1: 1, 2: 8, 3: 27, 4: 64, 5: 125}\n",
    "\n",
    "dict_result = {i:i**3 for i in range(1, 6) }\n",
    "dict_result"
   ]
  },
  {
   "cell_type": "code",
   "execution_count": 4,
   "id": "5efb4fb3-eb1b-4759-8e86-baeffe0342d1",
   "metadata": {},
   "outputs": [
    {
     "data": {
      "text/plain": [
       "{1, 2, 3, 4, 5}"
      ]
     },
     "execution_count": 4,
     "metadata": {},
     "output_type": "execute_result"
    }
   ],
   "source": [
    "# Remove duplicates from a list while preserving order using list comprehension.\n",
    "Input = [1, 2, 2, 3, 4, 4, 5]\n",
    "\n",
    "remove_dup = set()\n",
    "[remove_dup.add(i) for i in Input]\n",
    "remove_dup"
   ]
  },
  {
   "cell_type": "code",
   "execution_count": 39,
   "id": "88d44791-ef4a-43f3-bcbb-6b01692b579c",
   "metadata": {},
   "outputs": [
    {
     "name": "stdout",
     "output_type": "stream",
     "text": [
      "[[1, 4, 7], [2, 5, 8], [3, 6, 9], [5, 8, 0]]\n"
     ]
    }
   ],
   "source": [
    "# Given a 2D list (matrix), write a list comprehension to transpose it.\n",
    "# Expected Output: [[1, 4, 7], [2, 5, 8], [3, 6, 9]]\n",
    "\n",
    "matrix = [[1, 2, 3,5], [4, 5, 6,8], [7, 8, 9,0]]\n",
    "transposed_matrix = [[row[i] for row in matrix] for i in range(len(matrix[0]))]\n",
    "print(transposed_matrix)"
   ]
  },
  {
   "cell_type": "code",
   "execution_count": null,
   "id": "01c5be83-6d86-4784-a5a8-a3e983be5f29",
   "metadata": {},
   "outputs": [],
   "source": []
  }
 ],
 "metadata": {
  "kernelspec": {
   "display_name": "Python 3 (ipykernel)",
   "language": "python",
   "name": "python3"
  },
  "language_info": {
   "codemirror_mode": {
    "name": "ipython",
    "version": 3
   },
   "file_extension": ".py",
   "mimetype": "text/x-python",
   "name": "python",
   "nbconvert_exporter": "python",
   "pygments_lexer": "ipython3",
   "version": "3.11.6"
  }
 },
 "nbformat": 4,
 "nbformat_minor": 5
}
