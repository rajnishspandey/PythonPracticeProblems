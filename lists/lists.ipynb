{
 "cells": [
  {
   "cell_type": "raw",
   "id": "f6553f45-aaaa-415f-9362-1c6ab0612e57",
   "metadata": {},
   "source": [
    "# Convert a list of characters into a string\n",
    "# Input ['a', 'b', 'c', 'd']\n",
    "# Output abcd"
   ]
  },
  {
   "cell_type": "code",
   "execution_count": 19,
   "id": "d1b6f6c4-865c-455a-a80c-15c994de7a9e",
   "metadata": {},
   "outputs": [
    {
     "name": "stdout",
     "output_type": "stream",
     "text": [
      "abcd\n"
     ]
    }
   ],
   "source": [
    "lst = ['a', 'b', 'c', 'd']\n",
    "string = ''.join(lst)\n",
    "print(string)"
   ]
  },
  {
   "cell_type": "raw",
   "id": "f5010f51-6635-465c-ad13-5ba897397f31",
   "metadata": {},
   "source": [
    "# Write a Python program to find common items from two lists.\n",
    "# input\n",
    "# color1 = \"Red\", \"Green\", \"Orange\", \"White\"\n",
    "# color2 = \"Black\", \"Green\", \"White\", \"Pink\"\n",
    "# output\n",
    "# {'Green', 'White'}"
   ]
  },
  {
   "cell_type": "code",
   "execution_count": 25,
   "id": "8c4d9c58-58eb-4839-8e6a-0e0cadb7389b",
   "metadata": {},
   "outputs": [
    {
     "name": "stdout",
     "output_type": "stream",
     "text": [
      "{'Green', 'White'}\n"
     ]
    }
   ],
   "source": [
    "color1 = \"Red\", \"Green\", \"Orange\", \"White\" #tuple\n",
    "color2 = \"Black\", \"Green\", \"White\", \"Pink\" #tuple\n",
    "print(set(color1) & set(color2)) \n",
    "# here & is used for intersection (common in both) and set is used here to convert tuple to set"
   ]
  },
  {
   "cell_type": "raw",
   "id": "aba6984a-ea54-4f7f-86bf-9ffa66dd95a8",
   "metadata": {},
   "source": [
    "# Write a Python program to get the difference between the two lists\n",
    "# Input \n",
    "# list1 = [1, 2, 3, 4]\n",
    "# list2 = [1, 2]\n",
    "# Output\n",
    "# [3,4]"
   ]
  },
  {
   "cell_type": "code",
   "execution_count": 7,
   "id": "017158e1-93d9-4023-b456-8267ddfb9a84",
   "metadata": {},
   "outputs": [
    {
     "name": "stdout",
     "output_type": "stream",
     "text": [
      "[3, 4]\n",
      "[3, 4]\n"
     ]
    }
   ],
   "source": [
    "list1 = [1, 2, 3, 4]\n",
    "list2 = [1, 2]\n",
    "print(list(set(list1) - set(list2)))\n",
    "# or\n",
    "result = set(list1).difference(set(list2))\n",
    "new = list(result)\n",
    "print(new) # here of you get any error please restart your kernel its throwing error becasue above we have used list"
   ]
  },
  {
   "cell_type": "raw",
   "id": "3bf2f97f-d0c1-43c5-a659-3db45ab93af7",
   "metadata": {},
   "source": [
    "# Write a Python program to get the smallest number from a list.\n",
    "# max_num_in_list([1, 2, -8, 0])\n",
    "# return 2"
   ]
  },
  {
   "cell_type": "code",
   "execution_count": 19,
   "id": "df943cf2-0589-4231-970c-3cdef2359452",
   "metadata": {},
   "outputs": [
    {
     "data": {
      "text/plain": [
       "2"
      ]
     },
     "execution_count": 19,
     "metadata": {},
     "output_type": "execute_result"
    }
   ],
   "source": [
    "def max_num_in_list(List):\n",
    "    return max(List)\n",
    "\n",
    "max_num_in_list([1, 2, -8, 0])"
   ]
  },
  {
   "cell_type": "raw",
   "id": "639ea89b-cc35-4d84-9f01-5d834310b9da",
   "metadata": {},
   "source": [
    "# Write a Python program to get the frequency of the elements in a list.\n",
    "# input\n",
    "# my_list = [10,10,10,10,20,20,20,20,40,40,50,50,30]\n",
    "# outout\n",
    "# {10: 4, 20: 4, 40: 2, 50: 2, 30: 1}"
   ]
  },
  {
   "cell_type": "code",
   "execution_count": 31,
   "id": "302b5541-5fb3-4082-9dbf-57b5daec86f6",
   "metadata": {},
   "outputs": [
    {
     "name": "stdout",
     "output_type": "stream",
     "text": [
      "Counter({10: 4, 20: 4, 40: 2, 50: 2, 30: 1})\n"
     ]
    }
   ],
   "source": [
    "import collections\n",
    "my_list = [10,10,10,10,20,20,20,20,40,40,50,50,30]\n",
    "# print(\"Original List : \",my_list)\n",
    "\n",
    "ctr = collections.Counter(my_list)\n",
    "\n",
    "print(ctr)"
   ]
  },
  {
   "cell_type": "code",
   "execution_count": null,
   "id": "74879468-d376-43e0-b7ad-d2cfc9bc7beb",
   "metadata": {},
   "outputs": [],
   "source": []
  },
  {
   "cell_type": "code",
   "execution_count": 41,
   "id": "f5cc6f4e-b000-4d6a-a2bc-8acb6f5b9469",
   "metadata": {},
   "outputs": [
    {
     "name": "stdout",
     "output_type": "stream",
     "text": [
      "{10: 4, 20: 4, 40: 2, 50: 2, 30: 1}\n"
     ]
    }
   ],
   "source": [
    "# Solution 2\n",
    "my_list = [10,10,10,10,20,20,20,20,40,40,50,50,30]\n",
    "\n",
    "frequency_dict = {}\n",
    "for item in my_list:\n",
    "    if item in frequency_dict:\n",
    "        frequency_dict[item] += 1\n",
    "    else:\n",
    "        frequency_dict[item] = 1\n",
    "\n",
    "print(frequency_dict)"
   ]
  },
  {
   "cell_type": "raw",
   "id": "8e516370-4c91-4599-bc0c-c0c0c7d9b5a0",
   "metadata": {},
   "source": [
    "# Write a Python program to check whether a list contains a sublist.\n",
    "# Input\n",
    "# a = [2,4,3,5,7]\n",
    "# b = [4,3]\n",
    "# c = [3,7]\n",
    "# print(is_Sublist(a, b))\n",
    "# print(is_Sublist(a, c))\n",
    "# Output"
   ]
  },
  {
   "cell_type": "code",
   "execution_count": 51,
   "id": "b58bb935-f28c-48a2-a99e-c22e775a1e8c",
   "metadata": {},
   "outputs": [
    {
     "name": "stdout",
     "output_type": "stream",
     "text": [
      "True\n",
      "False\n"
     ]
    }
   ],
   "source": [
    "def is_Sublist(main_list, sub_list):\n",
    "    len_main = len(main_list)\n",
    "    len_sub = len(sub_list)\n",
    "    \n",
    "    for i in range(len_main - len_sub + 1):\n",
    "        if main_list[i:i + len_sub] == sub_list:\n",
    "            return True\n",
    "    return False\n",
    "\n",
    "# Input lists\n",
    "a = [2, 4, 3, 5, 7]\n",
    "b = [4, 3]\n",
    "c = [3, 7]\n",
    "\n",
    "# Check if sublists are in the main list\n",
    "print(is_Sublist(a, b))\n",
    "print(is_Sublist(a, c))"
   ]
  },
  {
   "cell_type": "raw",
   "id": "99833f54-a65d-4d59-a5a9-96499fb941df",
   "metadata": {},
   "source": [
    "#  Write a Python program to generate all permutations of a list in Python\n",
    "# Input [1,2,3]\n",
    "# Output [(1, 2, 3), (1, 3, 2), (2, 1, 3), (2, 3, 1), (3, 1, 2), (3, 2, 1)]"
   ]
  },
  {
   "cell_type": "code",
   "execution_count": 65,
   "id": "a3846903-b6be-4fc6-97b5-f5668a2cfc95",
   "metadata": {},
   "outputs": [
    {
     "name": "stdout",
     "output_type": "stream",
     "text": [
      "[(1, 2, 3), (1, 3, 2), (2, 1, 3), (2, 3, 1), (3, 1, 2), (3, 2, 1)]\n"
     ]
    }
   ],
   "source": [
    "from itertools import permutations\n",
    "\n",
    "print(list(permutations([1,2,3])))"
   ]
  },
  {
   "cell_type": "code",
   "execution_count": 69,
   "id": "c98b894f-d55a-4ffa-a897-104ace01892d",
   "metadata": {},
   "outputs": [
    {
     "name": "stdout",
     "output_type": "stream",
     "text": [
      "[(1, 2, 3), (1, 3, 2), (2, 1, 3), (2, 3, 1), (3, 1, 2), (3, 2, 1)]\n"
     ]
    }
   ],
   "source": [
    "def generate_permutations(lst):\n",
    "    # Helper function to generate permutations\n",
    "    def permute(current, remaining):\n",
    "        if not remaining:\n",
    "            # If no more elements to permute, add current permutation to results\n",
    "            result.append(tuple(current))\n",
    "            return\n",
    "        \n",
    "        # Recursively generate permutations by choosing each element\n",
    "        for i in range(len(remaining)):\n",
    "            # Choose element and generate permutations for the rest\n",
    "            next_current = current + [remaining[i]]\n",
    "            next_remaining = remaining[:i] + remaining[i+1:]\n",
    "            permute(next_current, next_remaining)\n",
    "    \n",
    "    result = []\n",
    "    permute([], lst)\n",
    "    return result\n",
    "\n",
    "input_list = [1, 2, 3]\n",
    "\n",
    "result = generate_permutations(input_list)\n",
    "print(result)\n"
   ]
  },
  {
   "cell_type": "raw",
   "id": "0bcc7708-492a-4e50-9531-3e0b84330f66",
   "metadata": {},
   "source": [
    "# Write a Python program to remove duplicates from a list.\n",
    "# Input a = [10,20,30,20,10,50,60,40,80,50,40]\n",
    "# Output {40, 10, 80, 50, 20, 60, 30} "
   ]
  },
  {
   "cell_type": "code",
   "execution_count": 79,
   "id": "77f0ac97-6228-4bca-b95e-2e63bbb9b1df",
   "metadata": {},
   "outputs": [
    {
     "name": "stdout",
     "output_type": "stream",
     "text": [
      "{40, 10, 80, 50, 20, 60, 30}\n"
     ]
    }
   ],
   "source": [
    "a = [10,20,30,20,10,50,60,40,80,50,40]\n",
    "print(set(a))"
   ]
  },
  {
   "cell_type": "code",
   "execution_count": 97,
   "id": "f4332663-4a0d-463e-af00-fc9940b901e7",
   "metadata": {},
   "outputs": [
    {
     "name": "stdout",
     "output_type": "stream",
     "text": [
      "{40, 10, 80, 50, 20, 60, 30}\n"
     ]
    }
   ],
   "source": [
    "a = [10,20,30,20,10,50,60,40,80,50,40]\n",
    "\n",
    "unique_items = []\n",
    "for i in a:\n",
    "    if i not in unique_items:\n",
    "        unique_items.append(i)\n",
    "\n",
    "print(set(unique_items))"
   ]
  },
  {
   "cell_type": "raw",
   "id": "1b3a8e6e-051d-44fa-8197-420ec3094bf5",
   "metadata": {},
   "source": [
    "# Write a Python program to find the second smallest number in a list.\n",
    "# input\n",
    "# second_smallest([1, 2, -8, -2, 0])\n",
    "# output\n",
    "# -2"
   ]
  },
  {
   "cell_type": "code",
   "execution_count": 139,
   "id": "44e16c57-e870-4c6b-8f6d-f5ee267ee362",
   "metadata": {},
   "outputs": [
    {
     "name": "stdout",
     "output_type": "stream",
     "text": [
      "[-8, -2, 0, 1, 2]\n"
     ]
    },
    {
     "data": {
      "text/plain": [
       "-2"
      ]
     },
     "execution_count": 139,
     "metadata": {},
     "output_type": "execute_result"
    }
   ],
   "source": [
    "def second_smallest(lst):\n",
    "    result = sorted(lst)\n",
    "    # lst.sort\n",
    "    print(result)\n",
    "    return result[1]\n",
    "\n",
    "second_smallest([1, 2, -8, -2, 0])"
   ]
  },
  {
   "cell_type": "raw",
   "id": "f381dbee-83c6-4d53-9161-d6f55a1431a5",
   "metadata": {},
   "source": [
    "# Write a Python program to sum all the items in a list\n",
    "# Example sum_list([1,2,-8])\n",
    "# Return -5"
   ]
  },
  {
   "cell_type": "code",
   "execution_count": 145,
   "id": "28437658-62bb-4f43-871f-16899e9482d7",
   "metadata": {},
   "outputs": [
    {
     "data": {
      "text/plain": [
       "-5"
      ]
     },
     "execution_count": 145,
     "metadata": {},
     "output_type": "execute_result"
    }
   ],
   "source": [
    "def sum_list(lst):\n",
    "    return sum(lst)\n",
    "\n",
    "sum_list([1,2,-8])"
   ]
  },
  {
   "cell_type": "code",
   "execution_count": 167,
   "id": "c8436755-0e48-4476-a7d2-d96f61e35a07",
   "metadata": {},
   "outputs": [
    {
     "name": "stdout",
     "output_type": "stream",
     "text": [
      "-5\n"
     ]
    }
   ],
   "source": [
    "# other solution\n",
    "\n",
    "def sum_list(lst):\n",
    "    sumation = 0\n",
    "    for i in lst:\n",
    "        sumation += i\n",
    "    return sumation\n",
    "\n",
    "calc = sum_list([1,2,-8])\n",
    "print(calc)"
   ]
  },
  {
   "cell_type": "code",
   "execution_count": null,
   "id": "9e97c741-52b9-4f36-9fb5-e57f8eb5f23e",
   "metadata": {},
   "outputs": [],
   "source": []
  }
 ],
 "metadata": {
  "kernelspec": {
   "display_name": "Python 3 (ipykernel)",
   "language": "python",
   "name": "python3"
  },
  "language_info": {
   "codemirror_mode": {
    "name": "ipython",
    "version": 3
   },
   "file_extension": ".py",
   "mimetype": "text/x-python",
   "name": "python",
   "nbconvert_exporter": "python",
   "pygments_lexer": "ipython3",
   "version": "3.12.4"
  }
 },
 "nbformat": 4,
 "nbformat_minor": 5
}
